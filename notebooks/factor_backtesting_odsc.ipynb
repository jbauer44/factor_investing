{
 "cells": [
  {
   "cell_type": "markdown",
   "metadata": {
    "toc": true
   },
   "source": [
    "<h1>Table of Contents<span class=\"tocSkip\"></span></h1>\n",
    "<div class=\"toc\"><ul class=\"toc-item\"><li><span><a href=\"#Overview\" data-toc-modified-id=\"Overview-1\"><span class=\"toc-item-num\">1&nbsp;&nbsp;</span>Overview</a></span></li><li><span><a href=\"#Libraries-and-functions\" data-toc-modified-id=\"Libraries-and-functions-2\"><span class=\"toc-item-num\">2&nbsp;&nbsp;</span>Libraries and functions</a></span><ul class=\"toc-item\"><li><span><a href=\"#Import-libraries\" data-toc-modified-id=\"Import-libraries-2.1\"><span class=\"toc-item-num\">2.1&nbsp;&nbsp;</span>Import libraries</a></span></li><li><span><a href=\"#Local-libraries\" data-toc-modified-id=\"Local-libraries-2.2\"><span class=\"toc-item-num\">2.2&nbsp;&nbsp;</span>Local libraries</a></span></li></ul></li><li><span><a href=\"#Options\" data-toc-modified-id=\"Options-3\"><span class=\"toc-item-num\">3&nbsp;&nbsp;</span>Options</a></span></li><li><span><a href=\"#Load-data\" data-toc-modified-id=\"Load-data-4\"><span class=\"toc-item-num\">4&nbsp;&nbsp;</span>Load data</a></span><ul class=\"toc-item\"><li><span><a href=\"#Features\" data-toc-modified-id=\"Features-4.1\"><span class=\"toc-item-num\">4.1&nbsp;&nbsp;</span>Features</a></span></li></ul></li><li><span><a href=\"#Preprocessing\" data-toc-modified-id=\"Preprocessing-5\"><span class=\"toc-item-num\">5&nbsp;&nbsp;</span>Preprocessing</a></span><ul class=\"toc-item\"><li><span><a href=\"#Collect-features-for-backtesting\" data-toc-modified-id=\"Collect-features-for-backtesting-5.1\"><span class=\"toc-item-num\">5.1&nbsp;&nbsp;</span>Collect features for backtesting</a></span></li><li><span><a href=\"#Compute-Market-cap-weighted-returns\" data-toc-modified-id=\"Compute-Market-cap-weighted-returns-5.2\"><span class=\"toc-item-num\">5.2&nbsp;&nbsp;</span>Compute Market cap weighted returns</a></span></li><li><span><a href=\"#Compute-equal-weighted-returns\" data-toc-modified-id=\"Compute-equal-weighted-returns-5.3\"><span class=\"toc-item-num\">5.3&nbsp;&nbsp;</span>Compute equal weighted returns</a></span></li><li><span><a href=\"#Include-market-cap-inverse-as-size-factor\" data-toc-modified-id=\"Include-market-cap-inverse-as-size-factor-5.4\"><span class=\"toc-item-num\">5.4&nbsp;&nbsp;</span>Include market cap inverse as size factor</a></span></li><li><span><a href=\"#Define-your-own-factors-here\" data-toc-modified-id=\"Define-your-own-factors-here-5.5\"><span class=\"toc-item-num\">5.5&nbsp;&nbsp;</span>Define your own factors here</a></span></li><li><span><a href=\"#Restrict-data\" data-toc-modified-id=\"Restrict-data-5.6\"><span class=\"toc-item-num\">5.6&nbsp;&nbsp;</span>Restrict data</a></span></li><li><span><a href=\"#Do-median-imputation-(optional)\" data-toc-modified-id=\"Do-median-imputation-(optional)-5.7\"><span class=\"toc-item-num\">5.7&nbsp;&nbsp;</span>Do median imputation (optional)</a></span></li></ul></li><li><span><a href=\"#Compute-backtesting-metrics\" data-toc-modified-id=\"Compute-backtesting-metrics-6\"><span class=\"toc-item-num\">6&nbsp;&nbsp;</span>Compute backtesting metrics</a></span><ul class=\"toc-item\"><li><span><a href=\"#Prepare-detailed-and-aggregated-versions-of-backtesting-results\" data-toc-modified-id=\"Prepare-detailed-and-aggregated-versions-of-backtesting-results-6.1\"><span class=\"toc-item-num\">6.1&nbsp;&nbsp;</span>Prepare detailed and aggregated versions of backtesting results</a></span></li></ul></li><li><span><a href=\"#Generate-plots\" data-toc-modified-id=\"Generate-plots-7\"><span class=\"toc-item-num\">7&nbsp;&nbsp;</span>Generate plots</a></span><ul class=\"toc-item\"><li><span><a href=\"#Horizontal-box-plots\" data-toc-modified-id=\"Horizontal-box-plots-7.1\"><span class=\"toc-item-num\">7.1&nbsp;&nbsp;</span>Horizontal box plots</a></span></li><li><span><a href=\"#Line-Box-plot-combination-for-a-single-feature\" data-toc-modified-id=\"Line-Box-plot-combination-for-a-single-feature-7.2\"><span class=\"toc-item-num\">7.2&nbsp;&nbsp;</span>Line-Box plot combination for a single feature</a></span></li></ul></li></ul></div>"
   ]
  },
  {
   "cell_type": "code",
   "execution_count": null,
   "metadata": {},
   "outputs": [],
   "source": []
  },
  {
   "cell_type": "markdown",
   "metadata": {
    "ExecuteTime": {
     "end_time": "2018-05-24T13:13:23.241995Z",
     "start_time": "2018-05-24T13:13:23.234000Z"
    }
   },
   "source": [
    "# Overview\n",
    "\n",
    "\n",
    "In this notebook compute metrics for factors\n",
    "\n",
    "\n",
    "**Backtesting function usage notes:**\n",
    "\n",
    "* The input to the backtesting function is in the form of a long dataframe as illustrated below:\n",
    "\n",
    "\n",
    "| Date  \t|Equity Parent   \t|returns   \t|feature_1   \t|\n",
    "|------\t|------\t|------\t|------\t|\n",
    "|2010-01-01   \t|FORD MOTOR CO   \t|value_1   \t|value_1   \t|\n",
    "|2010-02-01   \t|FORD MOTOR CO   \t|value_2   \t|value_2   \t|\n",
    "|2010-03-01   \t|FORD MOTOR CO   \t|value_3   \t|value_3   \t|\n",
    "\n",
    "* This procedure does not handle subsetting for a specified date range\n",
    "    * Subsetting to a specified date range needs to be done prior to passing the input dataframe.\n",
    "    * This can be accomplished by specifying start_date and end_date in the options section of the notebook.\n",
    "\n",
    "\n",
    "* The procedure works on the assumption that the bin_labels are specified in descending order\n",
    "   * eg: ['Q1','Q2','Q3','Q4'] implies Q1 is the highest portfolio and Q4 is the lowest\n",
    "\n",
    "\n",
    "* The generation of bins work ideally with a sufficient number of unique values in a feature. Too few unique values, could break the procedure, or return spurious results. The appropriate number of unique values, would depend on n_bins.\n",
    "    * Use this \n",
    "    \n",
    "    ```df_unique_check = df_feature_detail.groupby(date_col_name)[feature_col_name].nunique()``` \n",
    "    \n",
    "    to check for unique values in a feature\n"
   ]
  },
  {
   "cell_type": "markdown",
   "metadata": {},
   "source": [
    "# Libraries and functions\n",
    "\n",
    "## Import libraries"
   ]
  },
  {
   "cell_type": "code",
   "execution_count": 1,
   "metadata": {
    "ExecuteTime": {
     "end_time": "2018-09-19T00:34:01.942274Z",
     "start_time": "2018-09-19T00:33:59.851225Z"
    }
   },
   "outputs": [],
   "source": [
    "# libraries\n",
    "\n",
    "# general\n",
    "import sys\n",
    "import os\n",
    "\n",
    "\n",
    "import datetime\n",
    "import numpy as np\n",
    "import pandas as pd\n",
    "\n",
    "# plotting\n",
    "%matplotlib inline\n",
    "\n",
    "import matplotlib.pyplot as plt\n",
    "import matplotlib as mpl\n",
    "import seaborn as sns\n",
    "\n",
    "# # statistics and machine learning\n",
    "\n",
    "from IPython.display import display\n",
    "pd.options.display.max_columns = None\n",
    "\n",
    "# # add the base path to python system path\n",
    "path = os.getcwd()\n",
    "#dir_up = os.path.abspath(os.path.join(path, os.pardir))\n",
    "base_path = os.path.abspath(os.path.join(path, os.pardir))\n",
    "sys.path.append(base_path)\n",
    "\n",
    "\n",
    "# from mpl_toolkits.axes_grid.anchored_artists import AnchoredText\n",
    "from matplotlib import gridspec\n",
    "\n",
    "\n",
    "# # libraries within package\n",
    "from src.finance_functions import multiple_returns_from_levels_vec, project_to_first\n",
    "from src.finance_functions import df_restrict_dates\n",
    "from src.modelling import df_fill_missing\n",
    "from src.automotive_dictionaries import equity_name2first_date\n",
    "from src.feature_backtesting_routines import get_detail_backtest_results, perform_aggregation_across_time\n",
    "\n",
    "%load_ext autoreload\n",
    "%autoreload 2"
   ]
  },
  {
   "cell_type": "code",
   "execution_count": null,
   "metadata": {},
   "outputs": [],
   "source": []
  },
  {
   "cell_type": "markdown",
   "metadata": {},
   "source": [
    "## Local libraries"
   ]
  },
  {
   "cell_type": "code",
   "execution_count": 2,
   "metadata": {
    "ExecuteTime": {
     "end_time": "2018-09-19T00:34:05.052032Z",
     "start_time": "2018-09-19T00:34:04.009913Z"
    }
   },
   "outputs": [],
   "source": [
    "def box_plot(detail_results_df,features=None,figsize=(5,9),rot=90):\n",
    "\n",
    "    if features is None:\n",
    "        \n",
    "        features = detail_results_df['feature'].unique().tolist()\n",
    "    \n",
    "    else:\n",
    "        \n",
    "        box_df = detail_results_df.copy()\n",
    "        box_df = box_df[box_df['feature'].isin(features)]\n",
    "        box_df = box_df[['spread','feature']]\n",
    "        mean = round(box_df['spread'].mean(),2)\n",
    "        box_df = box_df.pivot(columns='feature',values='spread')\n",
    "        ax = box_df.boxplot(figsize=figsize,rot=rot,showmeans=True,showfliers=True)\n",
    "        return (ax,mean) \n",
    "\n",
    "def box_plot_all(detail_results_df, features=None, figsize=(5,9), alignment='H'):\n",
    "    \n",
    "    if features is None:\n",
    "        \n",
    "        features = detail_results_df['feature'].unique().tolist()\n",
    "    \n",
    "    else:\n",
    "        \n",
    "        n = len(features)\n",
    "        box_df = detail_results_df.copy()\n",
    "        box_df = box_df[box_df['feature'].isin(features)]\n",
    "        box_df = box_df[['spread','feature']]\n",
    "        box_df = box_df.pivot(columns='feature',values='spread')\n",
    "        box_df = box_df[feature_list]\n",
    "\n",
    "        if alignment == 'V':\n",
    "            fig, ax = plt.subplots(figsize=figsize)\n",
    "            plot_list = [box_df.iloc[:,k].values for k in range(n)]\n",
    "            ax.boxplot(plot_list, showmeans=True, labels=list(box_df.columns[:n]), vert=True)\n",
    "            plt.setp( ax.xaxis.get_majorticklabels(), rotation=45, horizontalalignment='right' )\n",
    "            plt.show()  \n",
    "\n",
    "        else:\n",
    "            fig, ax = plt.subplots(figsize=figsize)\n",
    "            plot_list = [box_df.iloc[:,k].values for k in range(n)][::-1]\n",
    "            ax.boxplot(plot_list, showmeans=True, labels=list(box_df.columns[:n])[::-1], vert=False)\n",
    "            plt.show()  \n",
    "    \n",
    "    return plt\n",
    "\n",
    "def time_series_plot(detail_results_df,feature=None,figsize=(15,9),fontsize=16):\n",
    "    \n",
    "    if feature is not None:\n",
    "        line_df = detail_results_df.copy()\n",
    "        line_df = line_df[line_df['feature'] == feature]['spread'].copy()\n",
    "        ax = line_df.plot(figsize=figsize,fontsize=fontsize,grid = True)\n",
    "        ax.axhline(y=line_df.mean(), xmin=-1, xmax=1, color='b', linestyle='-', lw=2) # mean line\n",
    "        ax.set_ylabel('Quintile portfolio spread [%]',fontsize=fontsize)\n",
    "        \n",
    "        return ax\n",
    "        \n",
    "def time_series_box_plot_combination(detail_results_df,\n",
    "                                     feature=None,\n",
    "                                     figsize=(15,9),\n",
    "                                     width_ratios=[4,1],\n",
    "                                     x_axis_visible = False):\n",
    "    \n",
    "    feature_var = feature\n",
    "\n",
    "    fig = plt.figure(figsize=figsize)\n",
    "    gs = gridspec.GridSpec(1, 2, width_ratios=width_ratios) \n",
    "\n",
    "    ax0 = plt.subplot(gs[0])\n",
    "    ax0 = time_series_plot(backtesting_detail_results,feature= feature_var)\n",
    "\n",
    "    ax1 = plt.subplot(gs[1])\n",
    "    tup = box_plot(backtesting_detail_results,features=[feature_var], rot = 0)\n",
    "    \n",
    "    ax1 = tup[0]\n",
    "    mean = tup[1]\n",
    "    \n",
    "    ax1.annotate(mean,xy=(1,1), xycoords='data',xytext=(1.1,mean), textcoords='data')\n",
    "    \n",
    "    x_axis = ax1.axes.get_xaxis()\n",
    "    x_axis.set_visible(x_axis_visible)\n",
    "\n",
    "    fig.suptitle(feature_var)\n",
    "    \n",
    "    return plt.gca()"
   ]
  },
  {
   "cell_type": "code",
   "execution_count": null,
   "metadata": {},
   "outputs": [],
   "source": []
  },
  {
   "cell_type": "markdown",
   "metadata": {},
   "source": [
    "# Options"
   ]
  },
  {
   "cell_type": "code",
   "execution_count": 3,
   "metadata": {
    "ExecuteTime": {
     "end_time": "2018-09-19T00:34:05.913727Z",
     "start_time": "2018-09-19T00:34:05.856443Z"
    }
   },
   "outputs": [],
   "source": [
    "equity_data_from_update = True\n",
    "\n",
    "# Correlation type to use\n",
    "#corr_type = 'spearman'\n",
    "\n",
    "do_median_imputation = False\n",
    "\n",
    "include_size_factor = True\n",
    "\n",
    "# dates for backtesting period\n",
    "start_date = datetime.datetime(2010, 5, 1)\n",
    "end_date = datetime.datetime(2016, 4, 1)"
   ]
  },
  {
   "cell_type": "markdown",
   "metadata": {},
   "source": [
    "# Load data"
   ]
  },
  {
   "cell_type": "markdown",
   "metadata": {},
   "source": [
    "## Features"
   ]
  },
  {
   "cell_type": "code",
   "execution_count": 4,
   "metadata": {
    "ExecuteTime": {
     "end_time": "2018-09-19T00:34:08.073890Z",
     "start_time": "2018-09-19T00:34:07.839718Z"
    }
   },
   "outputs": [],
   "source": [
    "filename = '../data/data_sample_monthly.csv'\n",
    "infile = filename\n",
    "df_comb_long = pd.read_csv(infile)\n",
    "df_comb_long['date'] = pd.to_datetime(df_comb_long['date'])"
   ]
  },
  {
   "cell_type": "code",
   "execution_count": 5,
   "metadata": {
    "ExecuteTime": {
     "end_time": "2018-09-19T00:34:08.544004Z",
     "start_time": "2018-09-19T00:34:08.423168Z"
    }
   },
   "outputs": [
    {
     "data": {
      "text/html": [
       "<div>\n",
       "<style scoped>\n",
       "    .dataframe tbody tr th:only-of-type {\n",
       "        vertical-align: middle;\n",
       "    }\n",
       "\n",
       "    .dataframe tbody tr th {\n",
       "        vertical-align: top;\n",
       "    }\n",
       "\n",
       "    .dataframe thead th {\n",
       "        text-align: right;\n",
       "    }\n",
       "</style>\n",
       "<table border=\"1\" class=\"dataframe\">\n",
       "  <thead>\n",
       "    <tr style=\"text-align: right;\">\n",
       "      <th></th>\n",
       "      <th>date</th>\n",
       "      <th>company</th>\n",
       "      <th>stock_price</th>\n",
       "      <th>returns</th>\n",
       "      <th>index_name</th>\n",
       "      <th>index_levels</th>\n",
       "      <th>index_returns</th>\n",
       "      <th>MarketCap_Mlns</th>\n",
       "      <th>Revenues</th>\n",
       "      <th>NetIncome</th>\n",
       "      <th>COGS</th>\n",
       "      <th>volume</th>\n",
       "    </tr>\n",
       "  </thead>\n",
       "  <tbody>\n",
       "    <tr>\n",
       "      <th>0</th>\n",
       "      <td>2008-01-01</td>\n",
       "      <td>BAYER MOTOREN WERK</td>\n",
       "      <td>54.486230</td>\n",
       "      <td>-0.132633</td>\n",
       "      <td>dax</td>\n",
       "      <td>6851.750000</td>\n",
       "      <td>NaN</td>\n",
       "      <td>32800.448938</td>\n",
       "      <td>NaN</td>\n",
       "      <td>NaN</td>\n",
       "      <td>NaN</td>\n",
       "      <td>384038.0</td>\n",
       "    </tr>\n",
       "    <tr>\n",
       "      <th>1</th>\n",
       "      <td>2008-02-01</td>\n",
       "      <td>BAYER MOTOREN WERK</td>\n",
       "      <td>54.925536</td>\n",
       "      <td>0.008063</td>\n",
       "      <td>dax</td>\n",
       "      <td>6748.129883</td>\n",
       "      <td>-0.015123</td>\n",
       "      <td>33064.908976</td>\n",
       "      <td>2.281679e+10</td>\n",
       "      <td>1.445970e+09</td>\n",
       "      <td>1.888679e+10</td>\n",
       "      <td>375563.0</td>\n",
       "    </tr>\n",
       "    <tr>\n",
       "      <th>2</th>\n",
       "      <td>2008-03-01</td>\n",
       "      <td>BAYER MOTOREN WERK</td>\n",
       "      <td>55.443756</td>\n",
       "      <td>0.009435</td>\n",
       "      <td>dax</td>\n",
       "      <td>6534.970215</td>\n",
       "      <td>-0.031588</td>\n",
       "      <td>33376.874785</td>\n",
       "      <td>NaN</td>\n",
       "      <td>NaN</td>\n",
       "      <td>NaN</td>\n",
       "      <td>359823.0</td>\n",
       "    </tr>\n",
       "    <tr>\n",
       "      <th>3</th>\n",
       "      <td>2008-04-01</td>\n",
       "      <td>BAYER MOTOREN WERK</td>\n",
       "      <td>54.880897</td>\n",
       "      <td>-0.010152</td>\n",
       "      <td>dax</td>\n",
       "      <td>6948.819824</td>\n",
       "      <td>0.063328</td>\n",
       "      <td>33038.036212</td>\n",
       "      <td>2.105088e+10</td>\n",
       "      <td>7.685116e+08</td>\n",
       "      <td>1.368109e+10</td>\n",
       "      <td>341071.0</td>\n",
       "    </tr>\n",
       "    <tr>\n",
       "      <th>4</th>\n",
       "      <td>2008-05-01</td>\n",
       "      <td>BAYER MOTOREN WERK</td>\n",
       "      <td>59.162678</td>\n",
       "      <td>0.078020</td>\n",
       "      <td>dax</td>\n",
       "      <td>7096.790039</td>\n",
       "      <td>0.021294</td>\n",
       "      <td>35615.647902</td>\n",
       "      <td>NaN</td>\n",
       "      <td>NaN</td>\n",
       "      <td>NaN</td>\n",
       "      <td>355610.0</td>\n",
       "    </tr>\n",
       "  </tbody>\n",
       "</table>\n",
       "</div>"
      ],
      "text/plain": [
       "        date             company  stock_price   returns index_name  \\\n",
       "0 2008-01-01  BAYER MOTOREN WERK    54.486230 -0.132633        dax   \n",
       "1 2008-02-01  BAYER MOTOREN WERK    54.925536  0.008063        dax   \n",
       "2 2008-03-01  BAYER MOTOREN WERK    55.443756  0.009435        dax   \n",
       "3 2008-04-01  BAYER MOTOREN WERK    54.880897 -0.010152        dax   \n",
       "4 2008-05-01  BAYER MOTOREN WERK    59.162678  0.078020        dax   \n",
       "\n",
       "   index_levels  index_returns  MarketCap_Mlns      Revenues     NetIncome  \\\n",
       "0   6851.750000            NaN    32800.448938           NaN           NaN   \n",
       "1   6748.129883      -0.015123    33064.908976  2.281679e+10  1.445970e+09   \n",
       "2   6534.970215      -0.031588    33376.874785           NaN           NaN   \n",
       "3   6948.819824       0.063328    33038.036212  2.105088e+10  7.685116e+08   \n",
       "4   7096.790039       0.021294    35615.647902           NaN           NaN   \n",
       "\n",
       "           COGS    volume  \n",
       "0           NaN  384038.0  \n",
       "1  1.888679e+10  375563.0  \n",
       "2           NaN  359823.0  \n",
       "3  1.368109e+10  341071.0  \n",
       "4           NaN  355610.0  "
      ]
     },
     "execution_count": 5,
     "metadata": {},
     "output_type": "execute_result"
    }
   ],
   "source": [
    "df_comb_long.head()"
   ]
  },
  {
   "cell_type": "code",
   "execution_count": 6,
   "metadata": {
    "ExecuteTime": {
     "end_time": "2018-09-19T00:34:09.261497Z",
     "start_time": "2018-09-19T00:34:09.184693Z"
    }
   },
   "outputs": [],
   "source": [
    "# long to wide\n",
    "#eq_name = 'Equity Parent'\n",
    "eq_name = 'company'\n",
    "df_prices = df_comb_long.pivot(values='stock_price', index='date', columns=eq_name)\n",
    "\n",
    "# monthly returns\n",
    "df_returns = multiple_returns_from_levels_vec(df_prices.ffill())"
   ]
  },
  {
   "cell_type": "code",
   "execution_count": 7,
   "metadata": {
    "ExecuteTime": {
     "end_time": "2018-09-19T00:34:09.846097Z",
     "start_time": "2018-09-19T00:34:09.760801Z"
    }
   },
   "outputs": [],
   "source": [
    "# wide to long (melt)\n",
    "# df_returns_long = pd.melt(df_returns.reset_index(), id_vars=['date'], var_name=eq_name, \n",
    "#                           value_name='returns')"
   ]
  },
  {
   "cell_type": "code",
   "execution_count": 8,
   "metadata": {
    "ExecuteTime": {
     "end_time": "2018-09-19T00:34:10.287199Z",
     "start_time": "2018-09-19T00:34:10.210099Z"
    }
   },
   "outputs": [],
   "source": [
    "# df_returns_long.head()"
   ]
  },
  {
   "cell_type": "code",
   "execution_count": 9,
   "metadata": {
    "ExecuteTime": {
     "end_time": "2018-09-19T00:34:10.712201Z",
     "start_time": "2018-09-19T00:34:10.643859Z"
    }
   },
   "outputs": [],
   "source": [
    "# how_join = 'outer'\n",
    "# #how_join = 'inner'\n",
    "# how_join = 'left'\n",
    "# left_on = ['date', eq_name]\n",
    "# right_on = ['date', eq_name]\n",
    "\n",
    "# df_comb_long = df_comb_long.merge(df_returns_long, how=how_join, left_on=left_on , right_on=right_on)"
   ]
  },
  {
   "cell_type": "markdown",
   "metadata": {},
   "source": [
    "# Preprocessing"
   ]
  },
  {
   "cell_type": "markdown",
   "metadata": {},
   "source": [
    "## Collect features for backtesting"
   ]
  },
  {
   "cell_type": "code",
   "execution_count": 10,
   "metadata": {
    "ExecuteTime": {
     "end_time": "2018-09-19T00:34:11.840914Z",
     "start_time": "2018-09-19T00:34:11.790851Z"
    }
   },
   "outputs": [],
   "source": [
    "l_features = ['volume']"
   ]
  },
  {
   "cell_type": "markdown",
   "metadata": {},
   "source": [
    "## Compute Market cap weighted returns"
   ]
  },
  {
   "cell_type": "code",
   "execution_count": 11,
   "metadata": {
    "ExecuteTime": {
     "end_time": "2018-09-19T00:34:12.526014Z",
     "start_time": "2018-09-19T00:34:12.406768Z"
    }
   },
   "outputs": [],
   "source": [
    "df_market_cap = df_comb_long.pivot(values='MarketCap_Mlns', index='date', columns=eq_name)\n",
    "df_market_cap.index = df_market_cap.index.map(project_to_first)\n",
    "\n",
    "# deal with the missing values by taking the previously available one\n",
    "df_market_cap.ffill(inplace=True)\n",
    "\n",
    "# set to zero when not available, this takes care of the market cap weights\n",
    "for col in df_market_cap.columns:\n",
    "    first_date = project_to_first(equity_name2first_date[col])\n",
    "    mask = df_market_cap.index < first_date\n",
    "    df_market_cap.loc[mask, col] = 0.0"
   ]
  },
  {
   "cell_type": "code",
   "execution_count": 12,
   "metadata": {
    "ExecuteTime": {
     "end_time": "2018-09-19T00:34:12.893594Z",
     "start_time": "2018-09-19T00:34:12.827373Z"
    }
   },
   "outputs": [],
   "source": [
    "total_market_cap = df_market_cap.sum(axis=1)\n",
    "# weights determined in the same month as market cap\n",
    "df_weights = df_market_cap.div(total_market_cap, axis=0)"
   ]
  },
  {
   "cell_type": "code",
   "execution_count": 13,
   "metadata": {
    "ExecuteTime": {
     "end_time": "2018-09-19T00:34:13.365776Z",
     "start_time": "2018-09-19T00:34:13.304664Z"
    }
   },
   "outputs": [],
   "source": [
    "# the weights for the index should be determined by past information,\n",
    "# i.e.by previous month market_cap\n",
    "df_weights_mc = df_weights.shift(1)"
   ]
  },
  {
   "cell_type": "code",
   "execution_count": 14,
   "metadata": {
    "ExecuteTime": {
     "end_time": "2018-09-19T00:34:13.724217Z",
     "start_time": "2018-09-19T00:34:13.648037Z"
    }
   },
   "outputs": [],
   "source": [
    "df_mc_index_returns = pd.DataFrame((df_returns * df_weights_mc).sum(axis=1), columns=['mc_return'])\n",
    "df_mc_index_returns.dropna(inplace=True)"
   ]
  },
  {
   "cell_type": "code",
   "execution_count": 15,
   "metadata": {
    "ExecuteTime": {
     "end_time": "2018-09-19T00:34:14.066619Z",
     "start_time": "2018-09-19T00:34:13.985375Z"
    }
   },
   "outputs": [],
   "source": [
    "#df_mc_index_returns.head()"
   ]
  },
  {
   "cell_type": "markdown",
   "metadata": {},
   "source": [
    "## Compute equal weighted returns"
   ]
  },
  {
   "cell_type": "code",
   "execution_count": 16,
   "metadata": {
    "ExecuteTime": {
     "end_time": "2018-09-19T00:34:14.716707Z",
     "start_time": "2018-09-19T00:34:14.664550Z"
    }
   },
   "outputs": [],
   "source": [
    "df_temp = (df_weights_mc > 0.0).astype(int)\n",
    "df_weights_equal = df_temp.div(df_temp.sum(axis=1), axis=0)"
   ]
  },
  {
   "cell_type": "code",
   "execution_count": 17,
   "metadata": {
    "ExecuteTime": {
     "end_time": "2018-09-19T00:34:15.149782Z",
     "start_time": "2018-09-19T00:34:15.075504Z"
    }
   },
   "outputs": [],
   "source": [
    "df_equal_index_returns = pd.DataFrame((df_returns * df_weights_equal).sum(axis=1), \n",
    "                                      columns=['equal_return'])\n",
    "df_equal_index_returns.rename(columns={'equal_return': 'Qe'}, inplace=True)"
   ]
  },
  {
   "cell_type": "code",
   "execution_count": 18,
   "metadata": {
    "ExecuteTime": {
     "end_time": "2018-09-19T00:34:15.474825Z",
     "start_time": "2018-09-19T00:34:15.393377Z"
    }
   },
   "outputs": [],
   "source": [
    "#df_equal_index_returns.head()"
   ]
  },
  {
   "cell_type": "markdown",
   "metadata": {},
   "source": [
    "## Include market cap inverse as size factor"
   ]
  },
  {
   "cell_type": "code",
   "execution_count": 19,
   "metadata": {
    "ExecuteTime": {
     "end_time": "2018-09-19T00:34:16.188960Z",
     "start_time": "2018-09-19T00:34:16.127500Z"
    }
   },
   "outputs": [],
   "source": [
    "if include_size_factor:\n",
    "    df_comb_long['size_factor'] = 1/df_comb_long['MarketCap_Mlns']\n",
    "    l_features.append('size_factor')  # include separately."
   ]
  },
  {
   "cell_type": "code",
   "execution_count": null,
   "metadata": {},
   "outputs": [],
   "source": []
  },
  {
   "cell_type": "markdown",
   "metadata": {},
   "source": [
    "## Define your own factors here"
   ]
  },
  {
   "cell_type": "code",
   "execution_count": null,
   "metadata": {},
   "outputs": [],
   "source": []
  },
  {
   "cell_type": "code",
   "execution_count": null,
   "metadata": {},
   "outputs": [],
   "source": []
  },
  {
   "cell_type": "code",
   "execution_count": null,
   "metadata": {},
   "outputs": [],
   "source": []
  },
  {
   "cell_type": "code",
   "execution_count": null,
   "metadata": {},
   "outputs": [],
   "source": []
  },
  {
   "cell_type": "markdown",
   "metadata": {},
   "source": [
    "## Restrict data"
   ]
  },
  {
   "cell_type": "code",
   "execution_count": 20,
   "metadata": {
    "ExecuteTime": {
     "end_time": "2018-09-19T00:34:19.601841Z",
     "start_time": "2018-09-19T00:34:19.534804Z"
    }
   },
   "outputs": [],
   "source": [
    "df_restricted = df_comb_long.copy()\n",
    "df_restricted.set_index('date', inplace=True) \n",
    "\n",
    "df_restricted = df_restrict_dates(df_restricted, start_date, end_date)"
   ]
  },
  {
   "cell_type": "markdown",
   "metadata": {},
   "source": [
    "## Do median imputation (optional)\n",
    "\n",
    "If no NaNs are present, median imputation is not required"
   ]
  },
  {
   "cell_type": "code",
   "execution_count": 21,
   "metadata": {
    "ExecuteTime": {
     "end_time": "2018-09-19T00:34:20.541992Z",
     "start_time": "2018-09-19T00:34:20.465396Z"
    }
   },
   "outputs": [
    {
     "name": "stdout",
     "output_type": "stream",
     "text": [
      "7 nans 0 zeros 0 infinities\n"
     ]
    }
   ],
   "source": [
    "# there are nans from size factor\n",
    "test0 = df_restricted[l_features]\n",
    "print(str(np.sum(np.sum(np.isnan(test0))))+' nans', str(np.sum(np.sum(test0 == 0)))+' zeros',\n",
    "      str(np.sum(np.sum(test0 == np.inf)))+' infinities')"
   ]
  },
  {
   "cell_type": "code",
   "execution_count": 22,
   "metadata": {
    "ExecuteTime": {
     "end_time": "2018-09-19T00:34:21.172293Z",
     "start_time": "2018-09-19T00:34:21.112219Z"
    }
   },
   "outputs": [],
   "source": [
    "#hf.show_nans(df_restricted[l_features].reset_index())\n"
   ]
  },
  {
   "cell_type": "code",
   "execution_count": 23,
   "metadata": {
    "ExecuteTime": {
     "end_time": "2018-09-19T00:34:21.613090Z",
     "start_time": "2018-09-19T00:34:21.547253Z"
    }
   },
   "outputs": [],
   "source": [
    "if do_median_imputation:\n",
    "    df_restricted[l_features] = df_fill_missing(df_restricted[l_features], missing_val_strategy='median')"
   ]
  },
  {
   "cell_type": "markdown",
   "metadata": {},
   "source": [
    "# Compute backtesting metrics\n",
    "\n",
    "##### Backtesting function usage notes:\n",
    "\n",
    "* The input to the backtesting function is in the form of a long dataframe as illustrated below:\n",
    "\n",
    "\n",
    "| Date  \t|Equity Parent   \t|returns   \t|feature_1   \t|\n",
    "|------\t|------\t|------\t|------\t|\n",
    "|2010-01-01   \t|FORD MOTOR CO   \t|value_1   \t|value_1   \t|\n",
    "|2010-02-01   \t|FORD MOTOR CO   \t|value_2   \t|value_2   \t|\n",
    "|2010-03-01   \t|FORD MOTOR CO   \t|value_3   \t|value_3   \t|\n",
    "\n",
    "* This procedure does not handle subsetting for a specified date range\n",
    "    * Subsetting to a specified date range needs to be done prior to passing the input dataframe.\n",
    "    * This can be accomplished by specifying start_date and end_date in the options section of the notebook.\n",
    "\n",
    "\n",
    "* The procedure works on the assumption that the bin_labels are specified in descending order\n",
    "   * eg: ['Q1','Q2','Q3','Q4'] implies Q1 is the highest portfolio and Q4 is the lowest\n",
    "\n",
    "\n",
    "* The generation of bins work ideally with a sufficient number of unique values in a feature. Too few unique values, could break the procedure, or return spurious results. The appropriate number of unique values, would depend on n_bins.\n",
    "    * Use this df_unique_check = df_feature_detail.groupby(date_col_name)[feature_col_name].nunique() to check for unique values in a feature"
   ]
  },
  {
   "cell_type": "code",
   "execution_count": 24,
   "metadata": {
    "ExecuteTime": {
     "end_time": "2018-09-19T00:34:22.703971Z",
     "start_time": "2018-09-19T00:34:22.588768Z"
    }
   },
   "outputs": [
    {
     "data": {
      "text/plain": [
       "['volume', 'size_factor']"
      ]
     },
     "execution_count": 24,
     "metadata": {},
     "output_type": "execute_result"
    }
   ],
   "source": [
    "l_features\n",
    "#df_restricted.head()"
   ]
  },
  {
   "cell_type": "code",
   "execution_count": 25,
   "metadata": {
    "ExecuteTime": {
     "end_time": "2018-09-19T00:34:23.853435Z",
     "start_time": "2018-09-19T00:34:23.198728Z"
    }
   },
   "outputs": [
    {
     "name": "stdout",
     "output_type": "stream",
     "text": [
      "Total features for processing: 2\n"
     ]
    }
   ],
   "source": [
    "n_quantiles = 5\n",
    "backtesting_results = get_detail_backtest_results(df_restricted, l_features, equity_identifier=eq_name, \n",
    "                                                  n_bins=n_quantiles)"
   ]
  },
  {
   "cell_type": "code",
   "execution_count": 26,
   "metadata": {
    "ExecuteTime": {
     "end_time": "2018-09-19T00:34:24.050846Z",
     "start_time": "2018-09-19T00:34:23.857754Z"
    }
   },
   "outputs": [
    {
     "data": {
      "text/html": [
       "<div>\n",
       "<style scoped>\n",
       "    .dataframe tbody tr th:only-of-type {\n",
       "        vertical-align: middle;\n",
       "    }\n",
       "\n",
       "    .dataframe tbody tr th {\n",
       "        vertical-align: top;\n",
       "    }\n",
       "\n",
       "    .dataframe thead th {\n",
       "        text-align: right;\n",
       "    }\n",
       "</style>\n",
       "<table border=\"1\" class=\"dataframe\">\n",
       "  <thead>\n",
       "    <tr style=\"text-align: right;\">\n",
       "      <th></th>\n",
       "      <th>Q1_avg</th>\n",
       "      <th>Q1_std</th>\n",
       "      <th>Q2_avg</th>\n",
       "      <th>Q2_std</th>\n",
       "      <th>Q3_avg</th>\n",
       "      <th>Q3_std</th>\n",
       "      <th>Q4_avg</th>\n",
       "      <th>Q4_std</th>\n",
       "      <th>Q5_avg</th>\n",
       "      <th>Q5_std</th>\n",
       "      <th>spread</th>\n",
       "      <th>ic_cs</th>\n",
       "      <th>feature</th>\n",
       "      <th>category</th>\n",
       "    </tr>\n",
       "    <tr>\n",
       "      <th>date</th>\n",
       "      <th></th>\n",
       "      <th></th>\n",
       "      <th></th>\n",
       "      <th></th>\n",
       "      <th></th>\n",
       "      <th></th>\n",
       "      <th></th>\n",
       "      <th></th>\n",
       "      <th></th>\n",
       "      <th></th>\n",
       "      <th></th>\n",
       "      <th></th>\n",
       "      <th></th>\n",
       "      <th></th>\n",
       "    </tr>\n",
       "  </thead>\n",
       "  <tbody>\n",
       "    <tr>\n",
       "      <th>2010-05-01</th>\n",
       "      <td>-0.155975</td>\n",
       "      <td>0.068885</td>\n",
       "      <td>-0.063418</td>\n",
       "      <td>0.112964</td>\n",
       "      <td>-0.129712</td>\n",
       "      <td>0.060137</td>\n",
       "      <td>-0.060238</td>\n",
       "      <td>0.037077</td>\n",
       "      <td>-0.093029</td>\n",
       "      <td>0.024364</td>\n",
       "      <td>-6.294551</td>\n",
       "      <td>-0.406593</td>\n",
       "      <td>size_factor</td>\n",
       "      <td>size_factor</td>\n",
       "    </tr>\n",
       "    <tr>\n",
       "      <th>2010-06-01</th>\n",
       "      <td>-0.114397</td>\n",
       "      <td>0.009191</td>\n",
       "      <td>0.035887</td>\n",
       "      <td>0.037432</td>\n",
       "      <td>-0.008131</td>\n",
       "      <td>0.037775</td>\n",
       "      <td>-0.040897</td>\n",
       "      <td>0.097178</td>\n",
       "      <td>-0.006660</td>\n",
       "      <td>0.038620</td>\n",
       "      <td>-10.773651</td>\n",
       "      <td>0.000000</td>\n",
       "      <td>size_factor</td>\n",
       "      <td>size_factor</td>\n",
       "    </tr>\n",
       "    <tr>\n",
       "      <th>2010-07-01</th>\n",
       "      <td>-0.010715</td>\n",
       "      <td>0.197012</td>\n",
       "      <td>0.086300</td>\n",
       "      <td>0.064306</td>\n",
       "      <td>0.103146</td>\n",
       "      <td>0.125939</td>\n",
       "      <td>0.137765</td>\n",
       "      <td>0.114235</td>\n",
       "      <td>0.038163</td>\n",
       "      <td>0.038172</td>\n",
       "      <td>-4.887753</td>\n",
       "      <td>-0.169231</td>\n",
       "      <td>size_factor</td>\n",
       "      <td>size_factor</td>\n",
       "    </tr>\n",
       "    <tr>\n",
       "      <th>2010-08-01</th>\n",
       "      <td>-0.102828</td>\n",
       "      <td>0.072062</td>\n",
       "      <td>-0.050337</td>\n",
       "      <td>0.053371</td>\n",
       "      <td>0.019228</td>\n",
       "      <td>0.139041</td>\n",
       "      <td>-0.075966</td>\n",
       "      <td>0.052899</td>\n",
       "      <td>0.013224</td>\n",
       "      <td>0.064317</td>\n",
       "      <td>-11.605195</td>\n",
       "      <td>-0.279121</td>\n",
       "      <td>size_factor</td>\n",
       "      <td>size_factor</td>\n",
       "    </tr>\n",
       "    <tr>\n",
       "      <th>2010-09-01</th>\n",
       "      <td>0.318249</td>\n",
       "      <td>0.241834</td>\n",
       "      <td>0.146585</td>\n",
       "      <td>0.127290</td>\n",
       "      <td>0.260534</td>\n",
       "      <td>0.052707</td>\n",
       "      <td>0.160830</td>\n",
       "      <td>0.143331</td>\n",
       "      <td>0.177311</td>\n",
       "      <td>0.174887</td>\n",
       "      <td>14.093844</td>\n",
       "      <td>0.107692</td>\n",
       "      <td>size_factor</td>\n",
       "      <td>size_factor</td>\n",
       "    </tr>\n",
       "  </tbody>\n",
       "</table>\n",
       "</div>"
      ],
      "text/plain": [
       "              Q1_avg    Q1_std    Q2_avg    Q2_std    Q3_avg    Q3_std  \\\n",
       "date                                                                     \n",
       "2010-05-01 -0.155975  0.068885 -0.063418  0.112964 -0.129712  0.060137   \n",
       "2010-06-01 -0.114397  0.009191  0.035887  0.037432 -0.008131  0.037775   \n",
       "2010-07-01 -0.010715  0.197012  0.086300  0.064306  0.103146  0.125939   \n",
       "2010-08-01 -0.102828  0.072062 -0.050337  0.053371  0.019228  0.139041   \n",
       "2010-09-01  0.318249  0.241834  0.146585  0.127290  0.260534  0.052707   \n",
       "\n",
       "              Q4_avg    Q4_std    Q5_avg    Q5_std     spread     ic_cs  \\\n",
       "date                                                                      \n",
       "2010-05-01 -0.060238  0.037077 -0.093029  0.024364  -6.294551 -0.406593   \n",
       "2010-06-01 -0.040897  0.097178 -0.006660  0.038620 -10.773651  0.000000   \n",
       "2010-07-01  0.137765  0.114235  0.038163  0.038172  -4.887753 -0.169231   \n",
       "2010-08-01 -0.075966  0.052899  0.013224  0.064317 -11.605195 -0.279121   \n",
       "2010-09-01  0.160830  0.143331  0.177311  0.174887  14.093844  0.107692   \n",
       "\n",
       "                feature     category  \n",
       "date                                  \n",
       "2010-05-01  size_factor  size_factor  \n",
       "2010-06-01  size_factor  size_factor  \n",
       "2010-07-01  size_factor  size_factor  \n",
       "2010-08-01  size_factor  size_factor  \n",
       "2010-09-01  size_factor  size_factor  "
      ]
     },
     "execution_count": 26,
     "metadata": {},
     "output_type": "execute_result"
    }
   ],
   "source": [
    "backtesting_results.head()"
   ]
  },
  {
   "cell_type": "markdown",
   "metadata": {},
   "source": [
    "## Prepare detailed and aggregated versions of backtesting results"
   ]
  },
  {
   "cell_type": "code",
   "execution_count": 27,
   "metadata": {
    "ExecuteTime": {
     "end_time": "2018-09-19T00:34:25.140518Z",
     "start_time": "2018-09-19T00:34:24.935635Z"
    }
   },
   "outputs": [],
   "source": [
    "# include market cap weighted returns in results dataframe\n",
    "backtesting_results_mc = backtesting_results.merge(df_mc_index_returns, left_index=True, \n",
    "                                                   right_index=True)\n",
    "\n",
    "# include equal weighted returns in results dataframe\n",
    "backtesting_detail_results = backtesting_results_mc.merge(df_equal_index_returns, left_index=True, \n",
    "                                                          right_index=True)\n",
    "\n",
    "# take the month-by-month detail results, and output aggregate results over the date range\n",
    "df_agg_results = perform_aggregation_across_time(backtesting_detail_results)\n",
    "df_agg_results.reset_index(inplace=True)\n",
    "\n",
    "# include spearman correlations in results dataframe\n",
    "final_results = df_agg_results"
   ]
  },
  {
   "cell_type": "code",
   "execution_count": 28,
   "metadata": {
    "ExecuteTime": {
     "end_time": "2018-09-19T00:34:25.604595Z",
     "start_time": "2018-09-19T00:34:25.480415Z"
    }
   },
   "outputs": [
    {
     "data": {
      "text/html": [
       "<div>\n",
       "<style scoped>\n",
       "    .dataframe tbody tr th:only-of-type {\n",
       "        vertical-align: middle;\n",
       "    }\n",
       "\n",
       "    .dataframe tbody tr th {\n",
       "        vertical-align: top;\n",
       "    }\n",
       "\n",
       "    .dataframe thead th {\n",
       "        text-align: right;\n",
       "    }\n",
       "</style>\n",
       "<table border=\"1\" class=\"dataframe\">\n",
       "  <thead>\n",
       "    <tr style=\"text-align: right;\">\n",
       "      <th></th>\n",
       "      <th>feature</th>\n",
       "      <th>category</th>\n",
       "      <th>Q1_avg</th>\n",
       "      <th>Q1_std</th>\n",
       "      <th>Q2_avg</th>\n",
       "      <th>Q2_std</th>\n",
       "      <th>Q3_avg</th>\n",
       "      <th>Q3_std</th>\n",
       "      <th>Q4_avg</th>\n",
       "      <th>Q4_std</th>\n",
       "      <th>Q5_avg</th>\n",
       "      <th>Q5_std</th>\n",
       "      <th>spread_avg</th>\n",
       "      <th>spread_std</th>\n",
       "      <th>ic_cs_avg</th>\n",
       "      <th>ic_cs_std</th>\n",
       "      <th>Qe_avg</th>\n",
       "      <th>Qe_std</th>\n",
       "      <th>mc_return_avg</th>\n",
       "      <th>mc_return_std</th>\n",
       "    </tr>\n",
       "  </thead>\n",
       "  <tbody>\n",
       "    <tr>\n",
       "      <th>0</th>\n",
       "      <td>size_factor</td>\n",
       "      <td>size_factor</td>\n",
       "      <td>0.010872</td>\n",
       "      <td>0.109252</td>\n",
       "      <td>0.014521</td>\n",
       "      <td>0.085792</td>\n",
       "      <td>0.016501</td>\n",
       "      <td>0.085123</td>\n",
       "      <td>0.007373</td>\n",
       "      <td>0.049138</td>\n",
       "      <td>0.010230</td>\n",
       "      <td>0.046490</td>\n",
       "      <td>0.064141</td>\n",
       "      <td>9.782189</td>\n",
       "      <td>-0.059628</td>\n",
       "      <td>0.285305</td>\n",
       "      <td>0.012045</td>\n",
       "      <td>0.073977</td>\n",
       "      <td>0.007316</td>\n",
       "      <td>0.059821</td>\n",
       "    </tr>\n",
       "    <tr>\n",
       "      <th>1</th>\n",
       "      <td>volume</td>\n",
       "      <td>volume</td>\n",
       "      <td>0.009133</td>\n",
       "      <td>0.054224</td>\n",
       "      <td>0.003294</td>\n",
       "      <td>0.066181</td>\n",
       "      <td>0.015844</td>\n",
       "      <td>0.070949</td>\n",
       "      <td>0.007275</td>\n",
       "      <td>0.074765</td>\n",
       "      <td>0.023763</td>\n",
       "      <td>0.116415</td>\n",
       "      <td>-1.462989</td>\n",
       "      <td>10.082045</td>\n",
       "      <td>0.013296</td>\n",
       "      <td>0.275892</td>\n",
       "      <td>0.012045</td>\n",
       "      <td>0.073977</td>\n",
       "      <td>0.007316</td>\n",
       "      <td>0.059821</td>\n",
       "    </tr>\n",
       "  </tbody>\n",
       "</table>\n",
       "</div>"
      ],
      "text/plain": [
       "       feature     category    Q1_avg    Q1_std    Q2_avg    Q2_std    Q3_avg  \\\n",
       "0  size_factor  size_factor  0.010872  0.109252  0.014521  0.085792  0.016501   \n",
       "1       volume       volume  0.009133  0.054224  0.003294  0.066181  0.015844   \n",
       "\n",
       "     Q3_std    Q4_avg    Q4_std    Q5_avg    Q5_std  spread_avg  spread_std  \\\n",
       "0  0.085123  0.007373  0.049138  0.010230  0.046490    0.064141    9.782189   \n",
       "1  0.070949  0.007275  0.074765  0.023763  0.116415   -1.462989   10.082045   \n",
       "\n",
       "   ic_cs_avg  ic_cs_std    Qe_avg    Qe_std  mc_return_avg  mc_return_std  \n",
       "0  -0.059628   0.285305  0.012045  0.073977       0.007316       0.059821  \n",
       "1   0.013296   0.275892  0.012045  0.073977       0.007316       0.059821  "
      ]
     },
     "execution_count": 28,
     "metadata": {},
     "output_type": "execute_result"
    }
   ],
   "source": [
    "final_results"
   ]
  },
  {
   "cell_type": "code",
   "execution_count": 29,
   "metadata": {
    "ExecuteTime": {
     "end_time": "2018-09-19T00:34:26.130794Z",
     "start_time": "2018-09-19T00:34:26.055183Z"
    }
   },
   "outputs": [],
   "source": [
    "feature_list = l_features"
   ]
  },
  {
   "cell_type": "markdown",
   "metadata": {},
   "source": [
    "# Generate plots"
   ]
  },
  {
   "cell_type": "markdown",
   "metadata": {},
   "source": [
    "## Horizontal box plots"
   ]
  },
  {
   "cell_type": "code",
   "execution_count": 30,
   "metadata": {
    "ExecuteTime": {
     "end_time": "2018-09-19T00:34:29.089569Z",
     "start_time": "2018-09-19T00:34:28.465616Z"
    }
   },
   "outputs": [
    {
     "data": {
      "image/png": "[encoded data removed]",
      "text/plain": [
       "<Figure size 720x576 with 1 Axes>"
      ]
     },
     "metadata": {},
     "output_type": "display_data"
    }
   ],
   "source": [
    "box_df = box_plot_all(backtesting_detail_results, features=feature_list, figsize=(10,8), alignment='H')"
   ]
  },
  {
   "cell_type": "markdown",
   "metadata": {},
   "source": [
    "## Line-Box plot combination for a single feature"
   ]
  },
  {
   "cell_type": "code",
   "execution_count": 31,
   "metadata": {
    "ExecuteTime": {
     "end_time": "2018-09-19T00:34:31.060770Z",
     "start_time": "2018-09-19T00:34:29.793430Z"
    }
   },
   "outputs": [
    {
     "data": {
      "image/png": "[encoded data removed]",
      "text/plain": [
       "<Figure size 1080x648 with 2 Axes>"
      ]
     },
     "metadata": {},
     "output_type": "display_data"
    }
   ],
   "source": [
    "plt_1 = time_series_box_plot_combination(backtesting_detail_results,\n",
    "                                         feature=feature_list[1])"
   ]
  },
  {
   "cell_type": "code",
   "execution_count": null,
   "metadata": {},
   "outputs": [],
   "source": []
  },
  {
   "cell_type": "code",
   "execution_count": null,
   "metadata": {},
   "outputs": [],
   "source": []
  }
 ],
 "metadata": {
  "kernelspec": {
   "display_name": "Python 3",
   "language": "python",
   "name": "python3"
  },
  "language_info": {
   "codemirror_mode": {
    "name": "ipython",
    "version": 3
   },
   "file_extension": ".py",
   "mimetype": "text/x-python",
   "name": "python",
   "nbconvert_exporter": "python",
   "pygments_lexer": "ipython3",
   "version": "3.5.2"
  },
  "toc": {
   "base_numbering": 1,
   "nav_menu": {},
   "number_sections": true,
   "sideBar": true,
   "skip_h1_title": false,
   "title_cell": "Table of Contents",
   "title_sidebar": "Contents",
   "toc_cell": true,
   "toc_position": {
    "height": "calc(100% - 180px)",
    "left": "10px",
    "top": "150px",
    "width": "202px"
   },
   "toc_section_display": true,
   "toc_window_display": true
  }
 },
 "nbformat": 4,
 "nbformat_minor": 2
}
